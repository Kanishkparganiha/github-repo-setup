{
 "cells": [
  {
   "cell_type": "code",
   "execution_count": 11,
   "id": "e774cf4d",
   "metadata": {},
   "outputs": [],
   "source": [
    "import pandas as pd\n",
    "from pyspark.sql import SparkSession\n",
    "from pyspark.sql.types import DateType,StringType,IntegerType,FloatType\n",
    "from pyspark.sql import functions as F\n",
    "from pyspark.sql.window import Window\n",
    "import os\n",
    "import matplotlib.pyplot as plt\n",
    "from pyspark.sql.functions import count,col,udf,year,month,avg,round,weekofyear,isnull,dayofweek"
   ]
  },
  {
   "cell_type": "code",
   "execution_count": 5,
   "id": "08cebe89",
   "metadata": {},
   "outputs": [],
   "source": [
    "spark = SparkSession.builder  \\\n",
    "        .appName(\"ANALYST_TASK\") \\\n",
    "          .getOrCreate()"
   ]
  },
  {
   "cell_type": "code",
   "execution_count": 28,
   "id": "6c4e78e2",
   "metadata": {},
   "outputs": [],
   "source": [
    "medications=spark.read.format('csv').option(\"delimiter\",\",\").option(\"header\",\"true\").load(\"medications.csv\")\n",
    "allergies=spark.read.csv('allergies.csv',header=True)\n",
    "encounters=spark.read.csv('encounters.csv',header=True)\n",
    "patients=spark.read.csv('patients.csv',header=True)\n",
    "procedures=spark.read.csv('procedures.csv',header=True)"
   ]
  },
  {
   "cell_type": "code",
   "execution_count": 31,
   "id": "d0974f56",
   "metadata": {},
   "outputs": [
    {
     "data": {
      "text/plain": [
       "Row(START='1997-09-20', STOP='NA', PATIENT='2043c57c-1085-45a3-87e8-a223d5b6693d', ENCOUNTER='3710b40a-bcc0-4c0f-a204-e47a5f3aec98', CODE='316049', DESCRIPTION='Hydromorphone 325 MG', COST='214.96', DISPENSES='265', TOTALCOST='56964.4', REASONCODE='59621000', REASONDESCRIPTION='Pain Relief')"
      ]
     },
     "execution_count": 31,
     "metadata": {},
     "output_type": "execute_result"
    }
   ],
   "source": [
    "medications.first()"
   ]
  },
  {
   "cell_type": "code",
   "execution_count": 32,
   "id": "8924e4dc",
   "metadata": {},
   "outputs": [
    {
     "data": {
      "text/plain": [
       "Row(START='1983-07-12', STOP='NA', PATIENT='7341aae3-7606-456e-b3c1-f67d1bc6b19b', ENCOUNTER='8ea228c8-f853-431e-969b-c7085602d2c1', CODE='300913006', DESCRIPTION='Shellfish allergy')"
      ]
     },
     "execution_count": 32,
     "metadata": {},
     "output_type": "execute_result"
    }
   ],
   "source": [
    "allergies.first()"
   ]
  },
  {
   "cell_type": "code",
   "execution_count": 33,
   "id": "65b18bd2",
   "metadata": {},
   "outputs": [
    {
     "data": {
      "text/plain": [
       "Row(Id='2590963f-222b-4870-b8c7-86d07f4d44b3', START='1959-06-18 09:43:49', STOP='1959-06-25 21:37:31', PATIENT='3d8e57b2-3de5-4fb6-95b4-8370270c5cc2', PROVIDER='fa6006c2-c562-3278-859b-96b266fc3ea1', ENCOUNTERCLASS='ambulatory', CODE='424441002', DESCRIPTION='Prenatal initial visit', COST='105.37', REASONCODE='72892002', REASONDESCRIPTION='Normal pregnancy')"
      ]
     },
     "execution_count": 33,
     "metadata": {},
     "output_type": "execute_result"
    }
   ],
   "source": [
    "encounters.first()"
   ]
  },
  {
   "cell_type": "code",
   "execution_count": 34,
   "id": "b5a22441",
   "metadata": {},
   "outputs": [
    {
     "data": {
      "text/plain": [
       "Row(Id='3d8e57b2-3de5-4fb6-95b4-8370270c5cc2', BIRTHDATE='1943-03-11', DEATHDATE='NA', SSN='999-86-7250', DRIVERS='S99939389', PASSPORT='X3970685X', PREFIX='Mrs.', FIRST='Allyn942', LAST='Kreiger457', SUFFIX='NA', MAIDEN='Bartoletti50', MARITAL='M', RACE='asian', ETHNICITY='asian_indian', GENDER='F', BIRTHPLACE='Muhlenberg  Pennsylvania  US', ADDRESS='372 Marks Heights Unit 20', CITY='Middle Paxton', STATE='Pennsylvania', ZIP='NA')"
      ]
     },
     "execution_count": 34,
     "metadata": {},
     "output_type": "execute_result"
    }
   ],
   "source": [
    "patients.first()"
   ]
  },
  {
   "cell_type": "code",
   "execution_count": 35,
   "id": "ee86aa8e",
   "metadata": {},
   "outputs": [
    {
     "data": {
      "text/plain": [
       "Row(DATE='2009-09-17', PATIENT.x='553b00b2-347c-48ec-90ee-f59924ff50eb', ENCOUNTER='d08babad-74ed-4490-8830-24af7310cac7', CODE.x='76601001', DESCRIPTION.x='Intramuscular injection', COST.x='1858.49', REASONCODE.x='NA', REASONDESCRIPTION.x='NA')"
      ]
     },
     "execution_count": 35,
     "metadata": {},
     "output_type": "execute_result"
    }
   ],
   "source": [
    "procedures.first()"
   ]
  },
  {
   "cell_type": "code",
   "execution_count": 36,
   "id": "ad2f8ca0",
   "metadata": {},
   "outputs": [
    {
     "name": "stdout",
     "output_type": "stream",
     "text": [
      "root\n",
      " |-- Id: string (nullable = true)\n",
      " |-- START: string (nullable = true)\n",
      " |-- STOP: string (nullable = true)\n",
      " |-- PATIENT: string (nullable = true)\n",
      " |-- PROVIDER: string (nullable = true)\n",
      " |-- ENCOUNTERCLASS: string (nullable = true)\n",
      " |-- CODE: string (nullable = true)\n",
      " |-- DESCRIPTION: string (nullable = true)\n",
      " |-- COST: string (nullable = true)\n",
      " |-- REASONCODE: string (nullable = true)\n",
      " |-- REASONDESCRIPTION: string (nullable = true)\n",
      "\n"
     ]
    }
   ],
   "source": [
    "encounters.printSchema()"
   ]
  },
  {
   "cell_type": "markdown",
   "id": "9af199ee",
   "metadata": {},
   "source": [
    "### Rename columns name in a dataframe"
   ]
  },
  {
   "cell_type": "code",
   "execution_count": 42,
   "id": "1c979456",
   "metadata": {},
   "outputs": [],
   "source": [
    "encounters=encounters.withColumnRenamed('Id','ENCOUNTER_ID')\n",
    "medications=medications.withColumnRenamed('START','START_MEDICATIONS')\n",
    "medications=medications.withColumnRenamed('STOP','STOP_MEDICATIONS')\n",
    "medications=medications.withColumnRenamed('START','START_MEDICATIONS')\n",
    "medications=medications.withColumnRenamed('DECRIPTION','MEDICAL_DESCRIPTION')"
   ]
  },
  {
   "cell_type": "code",
   "execution_count": 51,
   "id": "6e0cc50f",
   "metadata": {},
   "outputs": [],
   "source": []
  },
  {
   "cell_type": "code",
   "execution_count": 57,
   "id": "f5e59cc7",
   "metadata": {},
   "outputs": [
    {
     "name": "stdout",
     "output_type": "stream",
     "text": [
      "+--------------------+----------+---------+------------+------------+\n",
      "|                  Id| BIRTHDATE|DEATHDATE|      MAIDEN|  MAIDEN_NEW|\n",
      "+--------------------+----------+---------+------------+------------+\n",
      "|3d8e57b2-3de5-4fb...|1943-03-11|       NA|Bartoletti50|BARTOLETTI50|\n",
      "|7f4ea9fb-f436-411...|1980-09-28|       NA|          NA|          NA|\n",
      "|553b00b2-347c-48e...|1973-02-22|       NA|  Labadie908|  LABADIE908|\n",
      "|50f799aa-740c-4da...|1955-03-30|       NA|          NA|          NA|\n",
      "+--------------------+----------+---------+------------+------------+\n",
      "only showing top 4 rows\n",
      "\n"
     ]
    }
   ],
   "source": []
  },
  {
   "cell_type": "code",
   "execution_count": null,
   "id": "cfda608c",
   "metadata": {},
   "outputs": [],
   "source": []
  }
 ],
 "metadata": {
  "kernelspec": {
   "display_name": "Python 3",
   "language": "python",
   "name": "python3"
  },
  "language_info": {
   "codemirror_mode": {
    "name": "ipython",
    "version": 3
   },
   "file_extension": ".py",
   "mimetype": "text/x-python",
   "name": "python",
   "nbconvert_exporter": "python",
   "pygments_lexer": "ipython3",
   "version": "3.8.10"
  }
 },
 "nbformat": 4,
 "nbformat_minor": 5
}
